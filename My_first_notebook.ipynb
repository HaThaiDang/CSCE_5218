{
 "cells": [
  {
   "cell_type": "code",
   "execution_count": 3,
   "id": "a1920376-e533-4f81-a0be-d483be182750",
   "metadata": {},
   "outputs": [
    {
     "name": "stdout",
     "output_type": "stream",
     "text": [
      "My name is: Thai Ha Dang\n"
     ]
    }
   ],
   "source": [
    "print('My name is: Thai Ha Dang')"
   ]
  },
  {
   "cell_type": "code",
   "execution_count": null,
   "id": "c34dda13-3b53-4f6e-931c-96a94427731f",
   "metadata": {},
   "outputs": [],
   "source": []
  }
 ],
 "metadata": {
  "kernelspec": {
   "display_name": "Python 3 (ipykernel)",
   "language": "python",
   "name": "python3"
  },
  "language_info": {
   "codemirror_mode": {
    "name": "ipython",
    "version": 3
   },
   "file_extension": ".py",
   "mimetype": "text/x-python",
   "name": "python",
   "nbconvert_exporter": "python",
   "pygments_lexer": "ipython3",
   "version": "3.11.7"
  }
 },
 "nbformat": 4,
 "nbformat_minor": 5
}
